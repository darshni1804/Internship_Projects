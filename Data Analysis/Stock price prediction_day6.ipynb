{
 "cells": [
  {
   "cell_type": "code",
   "execution_count": 28,
   "id": "2eac5be5-58ae-4d9c-8093-124a43d4dc8a",
   "metadata": {},
   "outputs": [],
   "source": [
    "import pandas as pd"
   ]
  },
  {
   "cell_type": "code",
   "execution_count": 29,
   "id": "f87eb4de-f4ff-4cb7-bb62-bf1a06cf1682",
   "metadata": {},
   "outputs": [],
   "source": [
    "df=pd.read_csv(\"stock_data.csv\")"
   ]
  },
  {
   "cell_type": "code",
   "execution_count": 30,
   "id": "88aad731-41f5-404c-a998-ad7361a4aff6",
   "metadata": {},
   "outputs": [
    {
     "data": {
      "text/html": [
       "<div>\n",
       "<style scoped>\n",
       "    .dataframe tbody tr th:only-of-type {\n",
       "        vertical-align: middle;\n",
       "    }\n",
       "\n",
       "    .dataframe tbody tr th {\n",
       "        vertical-align: top;\n",
       "    }\n",
       "\n",
       "    .dataframe thead th {\n",
       "        text-align: right;\n",
       "    }\n",
       "</style>\n",
       "<table border=\"1\" class=\"dataframe\">\n",
       "  <thead>\n",
       "    <tr style=\"text-align: right;\">\n",
       "      <th></th>\n",
       "      <th>Unnamed: 0</th>\n",
       "      <th>Stock_1</th>\n",
       "      <th>Stock_2</th>\n",
       "      <th>Stock_3</th>\n",
       "      <th>Stock_4</th>\n",
       "      <th>Stock_5</th>\n",
       "    </tr>\n",
       "  </thead>\n",
       "  <tbody>\n",
       "    <tr>\n",
       "      <th>0</th>\n",
       "      <td>2020-01-01</td>\n",
       "      <td>101.764052</td>\n",
       "      <td>100.160928</td>\n",
       "      <td>99.494642</td>\n",
       "      <td>99.909756</td>\n",
       "      <td>101.761266</td>\n",
       "    </tr>\n",
       "    <tr>\n",
       "      <th>1</th>\n",
       "      <td>2020-01-02</td>\n",
       "      <td>102.171269</td>\n",
       "      <td>99.969968</td>\n",
       "      <td>98.682973</td>\n",
       "      <td>100.640755</td>\n",
       "      <td>102.528643</td>\n",
       "    </tr>\n",
       "    <tr>\n",
       "      <th>2</th>\n",
       "      <td>2020-01-03</td>\n",
       "      <td>103.171258</td>\n",
       "      <td>99.575237</td>\n",
       "      <td>98.182139</td>\n",
       "      <td>100.574847</td>\n",
       "      <td>101.887811</td>\n",
       "    </tr>\n",
       "    <tr>\n",
       "      <th>3</th>\n",
       "      <td>2020-01-04</td>\n",
       "      <td>105.483215</td>\n",
       "      <td>99.308641</td>\n",
       "      <td>97.149381</td>\n",
       "      <td>100.925017</td>\n",
       "      <td>101.490049</td>\n",
       "    </tr>\n",
       "    <tr>\n",
       "      <th>4</th>\n",
       "      <td>2020-01-05</td>\n",
       "      <td>107.453175</td>\n",
       "      <td>98.188428</td>\n",
       "      <td>99.575396</td>\n",
       "      <td>101.594411</td>\n",
       "      <td>101.604283</td>\n",
       "    </tr>\n",
       "    <tr>\n",
       "      <th>...</th>\n",
       "      <td>...</td>\n",
       "      <td>...</td>\n",
       "      <td>...</td>\n",
       "      <td>...</td>\n",
       "      <td>...</td>\n",
       "      <td>...</td>\n",
       "    </tr>\n",
       "    <tr>\n",
       "      <th>360</th>\n",
       "      <td>2020-12-26</td>\n",
       "      <td>92.684784</td>\n",
       "      <td>63.408103</td>\n",
       "      <td>98.288992</td>\n",
       "      <td>117.788079</td>\n",
       "      <td>102.995720</td>\n",
       "    </tr>\n",
       "    <tr>\n",
       "      <th>361</th>\n",
       "      <td>2020-12-27</td>\n",
       "      <td>92.688279</td>\n",
       "      <td>62.816639</td>\n",
       "      <td>98.061845</td>\n",
       "      <td>116.605106</td>\n",
       "      <td>102.718260</td>\n",
       "    </tr>\n",
       "    <tr>\n",
       "      <th>362</th>\n",
       "      <td>2020-12-28</td>\n",
       "      <td>93.551993</td>\n",
       "      <td>63.597651</td>\n",
       "      <td>96.454800</td>\n",
       "      <td>115.441164</td>\n",
       "      <td>103.566068</td>\n",
       "    </tr>\n",
       "    <tr>\n",
       "      <th>363</th>\n",
       "      <td>2020-12-29</td>\n",
       "      <td>93.870037</td>\n",
       "      <td>64.114492</td>\n",
       "      <td>95.747485</td>\n",
       "      <td>113.856107</td>\n",
       "      <td>103.257107</td>\n",
       "    </tr>\n",
       "    <tr>\n",
       "      <th>364</th>\n",
       "      <td>2020-12-30</td>\n",
       "      <td>93.855317</td>\n",
       "      <td>64.491011</td>\n",
       "      <td>97.805648</td>\n",
       "      <td>112.640418</td>\n",
       "      <td>102.304226</td>\n",
       "    </tr>\n",
       "  </tbody>\n",
       "</table>\n",
       "<p>365 rows × 6 columns</p>\n",
       "</div>"
      ],
      "text/plain": [
       "     Unnamed: 0     Stock_1     Stock_2    Stock_3     Stock_4     Stock_5\n",
       "0    2020-01-01  101.764052  100.160928  99.494642   99.909756  101.761266\n",
       "1    2020-01-02  102.171269   99.969968  98.682973  100.640755  102.528643\n",
       "2    2020-01-03  103.171258   99.575237  98.182139  100.574847  101.887811\n",
       "3    2020-01-04  105.483215   99.308641  97.149381  100.925017  101.490049\n",
       "4    2020-01-05  107.453175   98.188428  99.575396  101.594411  101.604283\n",
       "..          ...         ...         ...        ...         ...         ...\n",
       "360  2020-12-26   92.684784   63.408103  98.288992  117.788079  102.995720\n",
       "361  2020-12-27   92.688279   62.816639  98.061845  116.605106  102.718260\n",
       "362  2020-12-28   93.551993   63.597651  96.454800  115.441164  103.566068\n",
       "363  2020-12-29   93.870037   64.114492  95.747485  113.856107  103.257107\n",
       "364  2020-12-30   93.855317   64.491011  97.805648  112.640418  102.304226\n",
       "\n",
       "[365 rows x 6 columns]"
      ]
     },
     "execution_count": 30,
     "metadata": {},
     "output_type": "execute_result"
    }
   ],
   "source": [
    "df"
   ]
  },
  {
   "cell_type": "code",
   "execution_count": 31,
   "id": "9e90e4aa-1254-4626-a841-cab0d0645a50",
   "metadata": {},
   "outputs": [
    {
     "data": {
      "text/html": [
       "<div>\n",
       "<style scoped>\n",
       "    .dataframe tbody tr th:only-of-type {\n",
       "        vertical-align: middle;\n",
       "    }\n",
       "\n",
       "    .dataframe tbody tr th {\n",
       "        vertical-align: top;\n",
       "    }\n",
       "\n",
       "    .dataframe thead th {\n",
       "        text-align: right;\n",
       "    }\n",
       "</style>\n",
       "<table border=\"1\" class=\"dataframe\">\n",
       "  <thead>\n",
       "    <tr style=\"text-align: right;\">\n",
       "      <th></th>\n",
       "      <th>Unnamed: 0</th>\n",
       "      <th>Stock_1</th>\n",
       "      <th>Stock_2</th>\n",
       "      <th>Stock_3</th>\n",
       "      <th>Stock_4</th>\n",
       "      <th>Stock_5</th>\n",
       "    </tr>\n",
       "  </thead>\n",
       "  <tbody>\n",
       "    <tr>\n",
       "      <th>0</th>\n",
       "      <td>2020-01-01</td>\n",
       "      <td>101.764052</td>\n",
       "      <td>100.160928</td>\n",
       "      <td>99.494642</td>\n",
       "      <td>99.909756</td>\n",
       "      <td>101.761266</td>\n",
       "    </tr>\n",
       "    <tr>\n",
       "      <th>1</th>\n",
       "      <td>2020-01-02</td>\n",
       "      <td>102.171269</td>\n",
       "      <td>99.969968</td>\n",
       "      <td>98.682973</td>\n",
       "      <td>100.640755</td>\n",
       "      <td>102.528643</td>\n",
       "    </tr>\n",
       "    <tr>\n",
       "      <th>2</th>\n",
       "      <td>2020-01-03</td>\n",
       "      <td>103.171258</td>\n",
       "      <td>99.575237</td>\n",
       "      <td>98.182139</td>\n",
       "      <td>100.574847</td>\n",
       "      <td>101.887811</td>\n",
       "    </tr>\n",
       "    <tr>\n",
       "      <th>3</th>\n",
       "      <td>2020-01-04</td>\n",
       "      <td>105.483215</td>\n",
       "      <td>99.308641</td>\n",
       "      <td>97.149381</td>\n",
       "      <td>100.925017</td>\n",
       "      <td>101.490049</td>\n",
       "    </tr>\n",
       "    <tr>\n",
       "      <th>4</th>\n",
       "      <td>2020-01-05</td>\n",
       "      <td>107.453175</td>\n",
       "      <td>98.188428</td>\n",
       "      <td>99.575396</td>\n",
       "      <td>101.594411</td>\n",
       "      <td>101.604283</td>\n",
       "    </tr>\n",
       "  </tbody>\n",
       "</table>\n",
       "</div>"
      ],
      "text/plain": [
       "   Unnamed: 0     Stock_1     Stock_2    Stock_3     Stock_4     Stock_5\n",
       "0  2020-01-01  101.764052  100.160928  99.494642   99.909756  101.761266\n",
       "1  2020-01-02  102.171269   99.969968  98.682973  100.640755  102.528643\n",
       "2  2020-01-03  103.171258   99.575237  98.182139  100.574847  101.887811\n",
       "3  2020-01-04  105.483215   99.308641  97.149381  100.925017  101.490049\n",
       "4  2020-01-05  107.453175   98.188428  99.575396  101.594411  101.604283"
      ]
     },
     "execution_count": 31,
     "metadata": {},
     "output_type": "execute_result"
    }
   ],
   "source": [
    "df.head()"
   ]
  },
  {
   "cell_type": "code",
   "execution_count": 32,
   "id": "f40eed65-e265-4676-b703-6b20c21dea5a",
   "metadata": {},
   "outputs": [
    {
     "data": {
      "text/html": [
       "<div>\n",
       "<style scoped>\n",
       "    .dataframe tbody tr th:only-of-type {\n",
       "        vertical-align: middle;\n",
       "    }\n",
       "\n",
       "    .dataframe tbody tr th {\n",
       "        vertical-align: top;\n",
       "    }\n",
       "\n",
       "    .dataframe thead th {\n",
       "        text-align: right;\n",
       "    }\n",
       "</style>\n",
       "<table border=\"1\" class=\"dataframe\">\n",
       "  <thead>\n",
       "    <tr style=\"text-align: right;\">\n",
       "      <th></th>\n",
       "      <th>Unnamed: 0</th>\n",
       "      <th>Stock_1</th>\n",
       "      <th>Stock_2</th>\n",
       "      <th>Stock_3</th>\n",
       "      <th>Stock_4</th>\n",
       "      <th>Stock_5</th>\n",
       "    </tr>\n",
       "  </thead>\n",
       "  <tbody>\n",
       "    <tr>\n",
       "      <th>360</th>\n",
       "      <td>2020-12-26</td>\n",
       "      <td>92.684784</td>\n",
       "      <td>63.408103</td>\n",
       "      <td>98.288992</td>\n",
       "      <td>117.788079</td>\n",
       "      <td>102.995720</td>\n",
       "    </tr>\n",
       "    <tr>\n",
       "      <th>361</th>\n",
       "      <td>2020-12-27</td>\n",
       "      <td>92.688279</td>\n",
       "      <td>62.816639</td>\n",
       "      <td>98.061845</td>\n",
       "      <td>116.605106</td>\n",
       "      <td>102.718260</td>\n",
       "    </tr>\n",
       "    <tr>\n",
       "      <th>362</th>\n",
       "      <td>2020-12-28</td>\n",
       "      <td>93.551993</td>\n",
       "      <td>63.597651</td>\n",
       "      <td>96.454800</td>\n",
       "      <td>115.441164</td>\n",
       "      <td>103.566068</td>\n",
       "    </tr>\n",
       "    <tr>\n",
       "      <th>363</th>\n",
       "      <td>2020-12-29</td>\n",
       "      <td>93.870037</td>\n",
       "      <td>64.114492</td>\n",
       "      <td>95.747485</td>\n",
       "      <td>113.856107</td>\n",
       "      <td>103.257107</td>\n",
       "    </tr>\n",
       "    <tr>\n",
       "      <th>364</th>\n",
       "      <td>2020-12-30</td>\n",
       "      <td>93.855317</td>\n",
       "      <td>64.491011</td>\n",
       "      <td>97.805648</td>\n",
       "      <td>112.640418</td>\n",
       "      <td>102.304226</td>\n",
       "    </tr>\n",
       "  </tbody>\n",
       "</table>\n",
       "</div>"
      ],
      "text/plain": [
       "     Unnamed: 0    Stock_1    Stock_2    Stock_3     Stock_4     Stock_5\n",
       "360  2020-12-26  92.684784  63.408103  98.288992  117.788079  102.995720\n",
       "361  2020-12-27  92.688279  62.816639  98.061845  116.605106  102.718260\n",
       "362  2020-12-28  93.551993  63.597651  96.454800  115.441164  103.566068\n",
       "363  2020-12-29  93.870037  64.114492  95.747485  113.856107  103.257107\n",
       "364  2020-12-30  93.855317  64.491011  97.805648  112.640418  102.304226"
      ]
     },
     "execution_count": 32,
     "metadata": {},
     "output_type": "execute_result"
    }
   ],
   "source": [
    "df.tail()"
   ]
  },
  {
   "cell_type": "code",
   "execution_count": 33,
   "id": "eb6fa7fe-b484-4755-b176-dd7a0f37a237",
   "metadata": {},
   "outputs": [
    {
     "data": {
      "text/html": [
       "<div>\n",
       "<style scoped>\n",
       "    .dataframe tbody tr th:only-of-type {\n",
       "        vertical-align: middle;\n",
       "    }\n",
       "\n",
       "    .dataframe tbody tr th {\n",
       "        vertical-align: top;\n",
       "    }\n",
       "\n",
       "    .dataframe thead th {\n",
       "        text-align: right;\n",
       "    }\n",
       "</style>\n",
       "<table border=\"1\" class=\"dataframe\">\n",
       "  <thead>\n",
       "    <tr style=\"text-align: right;\">\n",
       "      <th></th>\n",
       "      <th>Unnamed: 0</th>\n",
       "      <th>Stock_1</th>\n",
       "      <th>Stock_2</th>\n",
       "      <th>Stock_3</th>\n",
       "      <th>Stock_4</th>\n",
       "      <th>Stock_5</th>\n",
       "    </tr>\n",
       "  </thead>\n",
       "  <tbody>\n",
       "    <tr>\n",
       "      <th>0</th>\n",
       "      <td>2020-01-01</td>\n",
       "      <td>101.764052</td>\n",
       "      <td>100.160928</td>\n",
       "      <td>99.494642</td>\n",
       "      <td>99.909756</td>\n",
       "      <td>101.761266</td>\n",
       "    </tr>\n",
       "    <tr>\n",
       "      <th>1</th>\n",
       "      <td>2020-01-02</td>\n",
       "      <td>102.171269</td>\n",
       "      <td>99.969968</td>\n",
       "      <td>98.682973</td>\n",
       "      <td>100.640755</td>\n",
       "      <td>102.528643</td>\n",
       "    </tr>\n",
       "    <tr>\n",
       "      <th>2</th>\n",
       "      <td>2020-01-03</td>\n",
       "      <td>103.171258</td>\n",
       "      <td>99.575237</td>\n",
       "      <td>98.182139</td>\n",
       "      <td>100.574847</td>\n",
       "      <td>101.887811</td>\n",
       "    </tr>\n",
       "    <tr>\n",
       "      <th>3</th>\n",
       "      <td>2020-01-04</td>\n",
       "      <td>105.483215</td>\n",
       "      <td>99.308641</td>\n",
       "      <td>97.149381</td>\n",
       "      <td>100.925017</td>\n",
       "      <td>101.490049</td>\n",
       "    </tr>\n",
       "    <tr>\n",
       "      <th>4</th>\n",
       "      <td>2020-01-05</td>\n",
       "      <td>107.453175</td>\n",
       "      <td>98.188428</td>\n",
       "      <td>99.575396</td>\n",
       "      <td>101.594411</td>\n",
       "      <td>101.604283</td>\n",
       "    </tr>\n",
       "    <tr>\n",
       "      <th>5</th>\n",
       "      <td>2020-01-06</td>\n",
       "      <td>106.403059</td>\n",
       "      <td>98.463789</td>\n",
       "      <td>97.339608</td>\n",
       "      <td>100.472182</td>\n",
       "      <td>100.938222</td>\n",
       "    </tr>\n",
       "    <tr>\n",
       "      <th>6</th>\n",
       "      <td>2020-01-07</td>\n",
       "      <td>107.413982</td>\n",
       "      <td>97.485922</td>\n",
       "      <td>97.888611</td>\n",
       "      <td>100.441100</td>\n",
       "      <td>101.006372</td>\n",
       "    </tr>\n",
       "    <tr>\n",
       "      <th>7</th>\n",
       "      <td>2020-01-08</td>\n",
       "      <td>107.251404</td>\n",
       "      <td>98.306394</td>\n",
       "      <td>96.631181</td>\n",
       "      <td>102.026929</td>\n",
       "      <td>101.791802</td>\n",
       "    </tr>\n",
       "    <tr>\n",
       "      <th>8</th>\n",
       "      <td>2020-01-09</td>\n",
       "      <td>107.140700</td>\n",
       "      <td>98.061160</td>\n",
       "      <td>96.530353</td>\n",
       "      <td>101.215305</td>\n",
       "      <td>101.755418</td>\n",
       "    </tr>\n",
       "    <tr>\n",
       "      <th>9</th>\n",
       "      <td>2020-01-10</td>\n",
       "      <td>107.580618</td>\n",
       "      <td>98.109696</td>\n",
       "      <td>95.576631</td>\n",
       "      <td>100.641981</td>\n",
       "      <td>102.097333</td>\n",
       "    </tr>\n",
       "  </tbody>\n",
       "</table>\n",
       "</div>"
      ],
      "text/plain": [
       "   Unnamed: 0     Stock_1     Stock_2    Stock_3     Stock_4     Stock_5\n",
       "0  2020-01-01  101.764052  100.160928  99.494642   99.909756  101.761266\n",
       "1  2020-01-02  102.171269   99.969968  98.682973  100.640755  102.528643\n",
       "2  2020-01-03  103.171258   99.575237  98.182139  100.574847  101.887811\n",
       "3  2020-01-04  105.483215   99.308641  97.149381  100.925017  101.490049\n",
       "4  2020-01-05  107.453175   98.188428  99.575396  101.594411  101.604283\n",
       "5  2020-01-06  106.403059   98.463789  97.339608  100.472182  100.938222\n",
       "6  2020-01-07  107.413982   97.485922  97.888611  100.441100  101.006372\n",
       "7  2020-01-08  107.251404   98.306394  96.631181  102.026929  101.791802\n",
       "8  2020-01-09  107.140700   98.061160  96.530353  101.215305  101.755418\n",
       "9  2020-01-10  107.580618   98.109696  95.576631  100.641981  102.097333"
      ]
     },
     "execution_count": 33,
     "metadata": {},
     "output_type": "execute_result"
    }
   ],
   "source": [
    "df.head(10)"
   ]
  },
  {
   "cell_type": "code",
   "execution_count": 34,
   "id": "c2e90520-d12d-430a-a440-a5c838d89ca7",
   "metadata": {},
   "outputs": [
    {
     "data": {
      "text/html": [
       "<div>\n",
       "<style scoped>\n",
       "    .dataframe tbody tr th:only-of-type {\n",
       "        vertical-align: middle;\n",
       "    }\n",
       "\n",
       "    .dataframe tbody tr th {\n",
       "        vertical-align: top;\n",
       "    }\n",
       "\n",
       "    .dataframe thead th {\n",
       "        text-align: right;\n",
       "    }\n",
       "</style>\n",
       "<table border=\"1\" class=\"dataframe\">\n",
       "  <thead>\n",
       "    <tr style=\"text-align: right;\">\n",
       "      <th></th>\n",
       "      <th>Unnamed: 0</th>\n",
       "      <th>Stock_1</th>\n",
       "      <th>Stock_2</th>\n",
       "      <th>Stock_3</th>\n",
       "      <th>Stock_4</th>\n",
       "      <th>Stock_5</th>\n",
       "    </tr>\n",
       "  </thead>\n",
       "  <tbody>\n",
       "    <tr>\n",
       "      <th>355</th>\n",
       "      <td>2020-12-21</td>\n",
       "      <td>94.090921</td>\n",
       "      <td>65.483086</td>\n",
       "      <td>100.340207</td>\n",
       "      <td>116.717384</td>\n",
       "      <td>104.089886</td>\n",
       "    </tr>\n",
       "    <tr>\n",
       "      <th>356</th>\n",
       "      <td>2020-12-22</td>\n",
       "      <td>92.356760</td>\n",
       "      <td>65.148930</td>\n",
       "      <td>99.293528</td>\n",
       "      <td>117.530249</td>\n",
       "      <td>106.817638</td>\n",
       "    </tr>\n",
       "    <tr>\n",
       "      <th>357</th>\n",
       "      <td>2020-12-23</td>\n",
       "      <td>91.915319</td>\n",
       "      <td>65.268756</td>\n",
       "      <td>98.442505</td>\n",
       "      <td>117.927766</td>\n",
       "      <td>106.019205</td>\n",
       "    </tr>\n",
       "    <tr>\n",
       "      <th>358</th>\n",
       "      <td>2020-12-24</td>\n",
       "      <td>91.474442</td>\n",
       "      <td>65.017151</td>\n",
       "      <td>99.109416</td>\n",
       "      <td>118.696397</td>\n",
       "      <td>104.640588</td>\n",
       "    </tr>\n",
       "    <tr>\n",
       "      <th>359</th>\n",
       "      <td>2020-12-25</td>\n",
       "      <td>92.041911</td>\n",
       "      <td>63.975683</td>\n",
       "      <td>99.160775</td>\n",
       "      <td>118.698143</td>\n",
       "      <td>103.799434</td>\n",
       "    </tr>\n",
       "    <tr>\n",
       "      <th>360</th>\n",
       "      <td>2020-12-26</td>\n",
       "      <td>92.684784</td>\n",
       "      <td>63.408103</td>\n",
       "      <td>98.288992</td>\n",
       "      <td>117.788079</td>\n",
       "      <td>102.995720</td>\n",
       "    </tr>\n",
       "    <tr>\n",
       "      <th>361</th>\n",
       "      <td>2020-12-27</td>\n",
       "      <td>92.688279</td>\n",
       "      <td>62.816639</td>\n",
       "      <td>98.061845</td>\n",
       "      <td>116.605106</td>\n",
       "      <td>102.718260</td>\n",
       "    </tr>\n",
       "    <tr>\n",
       "      <th>362</th>\n",
       "      <td>2020-12-28</td>\n",
       "      <td>93.551993</td>\n",
       "      <td>63.597651</td>\n",
       "      <td>96.454800</td>\n",
       "      <td>115.441164</td>\n",
       "      <td>103.566068</td>\n",
       "    </tr>\n",
       "    <tr>\n",
       "      <th>363</th>\n",
       "      <td>2020-12-29</td>\n",
       "      <td>93.870037</td>\n",
       "      <td>64.114492</td>\n",
       "      <td>95.747485</td>\n",
       "      <td>113.856107</td>\n",
       "      <td>103.257107</td>\n",
       "    </tr>\n",
       "    <tr>\n",
       "      <th>364</th>\n",
       "      <td>2020-12-30</td>\n",
       "      <td>93.855317</td>\n",
       "      <td>64.491011</td>\n",
       "      <td>97.805648</td>\n",
       "      <td>112.640418</td>\n",
       "      <td>102.304226</td>\n",
       "    </tr>\n",
       "  </tbody>\n",
       "</table>\n",
       "</div>"
      ],
      "text/plain": [
       "     Unnamed: 0    Stock_1    Stock_2     Stock_3     Stock_4     Stock_5\n",
       "355  2020-12-21  94.090921  65.483086  100.340207  116.717384  104.089886\n",
       "356  2020-12-22  92.356760  65.148930   99.293528  117.530249  106.817638\n",
       "357  2020-12-23  91.915319  65.268756   98.442505  117.927766  106.019205\n",
       "358  2020-12-24  91.474442  65.017151   99.109416  118.696397  104.640588\n",
       "359  2020-12-25  92.041911  63.975683   99.160775  118.698143  103.799434\n",
       "360  2020-12-26  92.684784  63.408103   98.288992  117.788079  102.995720\n",
       "361  2020-12-27  92.688279  62.816639   98.061845  116.605106  102.718260\n",
       "362  2020-12-28  93.551993  63.597651   96.454800  115.441164  103.566068\n",
       "363  2020-12-29  93.870037  64.114492   95.747485  113.856107  103.257107\n",
       "364  2020-12-30  93.855317  64.491011   97.805648  112.640418  102.304226"
      ]
     },
     "execution_count": 34,
     "metadata": {},
     "output_type": "execute_result"
    }
   ],
   "source": [
    "df.tail(10)"
   ]
  },
  {
   "cell_type": "code",
   "execution_count": 35,
   "id": "1668e0cc-7e42-40da-b72b-c71e9a9ca45d",
   "metadata": {},
   "outputs": [
    {
     "data": {
      "text/plain": [
       "(365, 6)"
      ]
     },
     "execution_count": 35,
     "metadata": {},
     "output_type": "execute_result"
    }
   ],
   "source": [
    "df.shape"
   ]
  },
  {
   "cell_type": "code",
   "execution_count": 36,
   "id": "075dee7a-e3b2-41e4-8aa8-396e583ab7ca",
   "metadata": {},
   "outputs": [
    {
     "data": {
      "text/plain": [
       "<bound method DataFrame.info of      Unnamed: 0     Stock_1     Stock_2    Stock_3     Stock_4     Stock_5\n",
       "0    2020-01-01  101.764052  100.160928  99.494642   99.909756  101.761266\n",
       "1    2020-01-02  102.171269   99.969968  98.682973  100.640755  102.528643\n",
       "2    2020-01-03  103.171258   99.575237  98.182139  100.574847  101.887811\n",
       "3    2020-01-04  105.483215   99.308641  97.149381  100.925017  101.490049\n",
       "4    2020-01-05  107.453175   98.188428  99.575396  101.594411  101.604283\n",
       "..          ...         ...         ...        ...         ...         ...\n",
       "360  2020-12-26   92.684784   63.408103  98.288992  117.788079  102.995720\n",
       "361  2020-12-27   92.688279   62.816639  98.061845  116.605106  102.718260\n",
       "362  2020-12-28   93.551993   63.597651  96.454800  115.441164  103.566068\n",
       "363  2020-12-29   93.870037   64.114492  95.747485  113.856107  103.257107\n",
       "364  2020-12-30   93.855317   64.491011  97.805648  112.640418  102.304226\n",
       "\n",
       "[365 rows x 6 columns]>"
      ]
     },
     "execution_count": 36,
     "metadata": {},
     "output_type": "execute_result"
    }
   ],
   "source": [
    "df.info"
   ]
  },
  {
   "cell_type": "code",
   "execution_count": 37,
   "id": "dfab7983-f49b-4fe2-8efe-291ddff78c7c",
   "metadata": {},
   "outputs": [
    {
     "data": {
      "text/html": [
       "<div>\n",
       "<style scoped>\n",
       "    .dataframe tbody tr th:only-of-type {\n",
       "        vertical-align: middle;\n",
       "    }\n",
       "\n",
       "    .dataframe tbody tr th {\n",
       "        vertical-align: top;\n",
       "    }\n",
       "\n",
       "    .dataframe thead th {\n",
       "        text-align: right;\n",
       "    }\n",
       "</style>\n",
       "<table border=\"1\" class=\"dataframe\">\n",
       "  <thead>\n",
       "    <tr style=\"text-align: right;\">\n",
       "      <th></th>\n",
       "      <th>Stock_1</th>\n",
       "      <th>Stock_2</th>\n",
       "      <th>Stock_3</th>\n",
       "      <th>Stock_4</th>\n",
       "      <th>Stock_5</th>\n",
       "    </tr>\n",
       "  </thead>\n",
       "  <tbody>\n",
       "    <tr>\n",
       "      <th>count</th>\n",
       "      <td>365.000000</td>\n",
       "      <td>365.000000</td>\n",
       "      <td>365.000000</td>\n",
       "      <td>365.000000</td>\n",
       "      <td>365.000000</td>\n",
       "    </tr>\n",
       "    <tr>\n",
       "      <th>mean</th>\n",
       "      <td>107.772577</td>\n",
       "      <td>81.105216</td>\n",
       "      <td>94.519502</td>\n",
       "      <td>117.407560</td>\n",
       "      <td>106.866865</td>\n",
       "    </tr>\n",
       "    <tr>\n",
       "      <th>std</th>\n",
       "      <td>7.398296</td>\n",
       "      <td>11.435212</td>\n",
       "      <td>6.519213</td>\n",
       "      <td>6.778527</td>\n",
       "      <td>3.760968</td>\n",
       "    </tr>\n",
       "    <tr>\n",
       "      <th>min</th>\n",
       "      <td>91.474442</td>\n",
       "      <td>62.414219</td>\n",
       "      <td>81.111434</td>\n",
       "      <td>99.909756</td>\n",
       "      <td>99.833309</td>\n",
       "    </tr>\n",
       "    <tr>\n",
       "      <th>25%</th>\n",
       "      <td>101.603117</td>\n",
       "      <td>69.328263</td>\n",
       "      <td>89.788068</td>\n",
       "      <td>112.209912</td>\n",
       "      <td>103.927072</td>\n",
       "    </tr>\n",
       "    <tr>\n",
       "      <th>50%</th>\n",
       "      <td>107.421299</td>\n",
       "      <td>84.283525</td>\n",
       "      <td>94.495546</td>\n",
       "      <td>117.788079</td>\n",
       "      <td>106.411328</td>\n",
       "    </tr>\n",
       "    <tr>\n",
       "      <th>75%</th>\n",
       "      <td>113.741728</td>\n",
       "      <td>91.548859</td>\n",
       "      <td>99.919465</td>\n",
       "      <td>123.132365</td>\n",
       "      <td>109.178007</td>\n",
       "    </tr>\n",
       "    <tr>\n",
       "      <th>max</th>\n",
       "      <td>121.901773</td>\n",
       "      <td>100.160928</td>\n",
       "      <td>107.588373</td>\n",
       "      <td>129.911386</td>\n",
       "      <td>116.243803</td>\n",
       "    </tr>\n",
       "  </tbody>\n",
       "</table>\n",
       "</div>"
      ],
      "text/plain": [
       "          Stock_1     Stock_2     Stock_3     Stock_4     Stock_5\n",
       "count  365.000000  365.000000  365.000000  365.000000  365.000000\n",
       "mean   107.772577   81.105216   94.519502  117.407560  106.866865\n",
       "std      7.398296   11.435212    6.519213    6.778527    3.760968\n",
       "min     91.474442   62.414219   81.111434   99.909756   99.833309\n",
       "25%    101.603117   69.328263   89.788068  112.209912  103.927072\n",
       "50%    107.421299   84.283525   94.495546  117.788079  106.411328\n",
       "75%    113.741728   91.548859   99.919465  123.132365  109.178007\n",
       "max    121.901773  100.160928  107.588373  129.911386  116.243803"
      ]
     },
     "execution_count": 37,
     "metadata": {},
     "output_type": "execute_result"
    }
   ],
   "source": [
    "df.describe()"
   ]
  },
  {
   "cell_type": "code",
   "execution_count": 38,
   "id": "8941528e-ec64-4e69-b399-4bb4a3819370",
   "metadata": {},
   "outputs": [
    {
     "data": {
      "text/plain": [
       "<Axes: >"
      ]
     },
     "execution_count": 38,
     "metadata": {},
     "output_type": "execute_result"
    },
    {
     "data": {
      "image/png": "[encoded data removed]",
      "text/plain": [
       "<Figure size 640x480 with 1 Axes>"
      ]
     },
     "metadata": {},
     "output_type": "display_data"
    }
   ],
   "source": [
    "df.Stock_1.hist()"
   ]
  },
  {
   "cell_type": "code",
   "execution_count": 39,
   "id": "0611ef5d-745d-4495-9252-b2462b4558ee",
   "metadata": {},
   "outputs": [
    {
     "data": {
      "text/plain": [
       "<Axes: ylabel='Stock_1'>"
      ]
     },
     "execution_count": 39,
     "metadata": {},
     "output_type": "execute_result"
    },
    {
     "data": {
      "image/png": "[encoded data removed]",
      "text/plain": [
       "<Figure size 640x480 with 1 Axes>"
      ]
     },
     "metadata": {},
     "output_type": "display_data"
    }
   ],
   "source": [
    "import seaborn as sns\n",
    "sns.boxplot(df.Stock_1)"
   ]
  },
  {
   "cell_type": "code",
   "execution_count": 40,
   "id": "49102abc-6aa7-41fb-9ad9-ec2558e88f36",
   "metadata": {},
   "outputs": [],
   "source": [
    "df=df[df.Stock_1>=100]"
   ]
  },
  {
   "cell_type": "code",
   "execution_count": 41,
   "id": "80bdd33a-0bcc-4ede-9ab4-f94b7e7a4c98",
   "metadata": {},
   "outputs": [
    {
     "data": {
      "text/plain": [
       "(307, 6)"
      ]
     },
     "execution_count": 41,
     "metadata": {},
     "output_type": "execute_result"
    }
   ],
   "source": [
    "df.shape"
   ]
  },
  {
   "cell_type": "code",
   "execution_count": 42,
   "id": "a9636a9d-2b6e-4b1a-9da6-96c4d6a04746",
   "metadata": {},
   "outputs": [
    {
     "data": {
      "text/plain": [
       "<Axes: ylabel='Stock_1'>"
      ]
     },
     "execution_count": 42,
     "metadata": {},
     "output_type": "execute_result"
    },
    {
     "data": {
      "image/png": "[encoded data removed]",
      "text/plain": [
       "<Figure size 640x480 with 1 Axes>"
      ]
     },
     "metadata": {},
     "output_type": "display_data"
    }
   ],
   "source": [
    "sns.boxplot(df.Stock_1)"
   ]
  },
  {
   "cell_type": "code",
   "execution_count": 43,
   "id": "5d11b562-250d-4197-b12e-8d9013e547aa",
   "metadata": {},
   "outputs": [
    {
     "data": {
      "text/plain": [
       "<Axes: >"
      ]
     },
     "execution_count": 43,
     "metadata": {},
     "output_type": "execute_result"
    },
    {
     "data": {
      "image/png": "[encoded data removed]",
      "text/plain": [
       "<Figure size 640x480 with 1 Axes>"
      ]
     },
     "metadata": {},
     "output_type": "display_data"
    }
   ],
   "source": [
    "df.Stock_1.hist()"
   ]
  },
  {
   "cell_type": "code",
   "execution_count": 44,
   "id": "83f62386-3538-4050-89a0-b76df3f88c09",
   "metadata": {},
   "outputs": [
    {
     "data": {
      "text/plain": [
       "<Axes: >"
      ]
     },
     "execution_count": 44,
     "metadata": {},
     "output_type": "execute_result"
    },
    {
     "data": {
      "image/png": "[encoded data removed]",
      "text/plain": [
       "<Figure size 640x480 with 1 Axes>"
      ]
     },
     "metadata": {},
     "output_type": "display_data"
    }
   ],
   "source": [
    "df.Stock_2.hist()"
   ]
  },
  {
   "cell_type": "code",
   "execution_count": 45,
   "id": "f2dc6e35-722d-44e9-afb0-18c3ebacb4e6",
   "metadata": {},
   "outputs": [],
   "source": [
    "df=df[['Stock_1','Stock_2','Stock_3','Stock_4','Stock_5']]"
   ]
  },
  {
   "cell_type": "code",
   "execution_count": 47,
   "id": "8ec72a22-b567-4c54-9948-9ef85208e054",
   "metadata": {},
   "outputs": [
    {
     "data": {
      "text/plain": [
       "(307, 5)"
      ]
     },
     "execution_count": 47,
     "metadata": {},
     "output_type": "execute_result"
    }
   ],
   "source": [
    "df.shape"
   ]
  },
  {
   "cell_type": "code",
   "execution_count": 48,
   "id": "765b2c70-cebc-4e62-891b-0fff7a80b039",
   "metadata": {},
   "outputs": [
    {
     "data": {
      "text/plain": [
       "Stock_1    0\n",
       "Stock_2    0\n",
       "Stock_3    0\n",
       "Stock_4    0\n",
       "Stock_5    0\n",
       "dtype: int64"
      ]
     },
     "execution_count": 48,
     "metadata": {},
     "output_type": "execute_result"
    }
   ],
   "source": [
    "df.isna().sum()"
   ]
  },
  {
   "cell_type": "code",
   "execution_count": 49,
   "id": "c0e6696f-a176-4c7b-a6cd-e43de4bd3ac4",
   "metadata": {},
   "outputs": [
    {
     "data": {
      "text/html": [
       "<div>\n",
       "<style scoped>\n",
       "    .dataframe tbody tr th:only-of-type {\n",
       "        vertical-align: middle;\n",
       "    }\n",
       "\n",
       "    .dataframe tbody tr th {\n",
       "        vertical-align: top;\n",
       "    }\n",
       "\n",
       "    .dataframe thead th {\n",
       "        text-align: right;\n",
       "    }\n",
       "</style>\n",
       "<table border=\"1\" class=\"dataframe\">\n",
       "  <thead>\n",
       "    <tr style=\"text-align: right;\">\n",
       "      <th></th>\n",
       "      <th>Stock_1</th>\n",
       "      <th>Stock_2</th>\n",
       "      <th>Stock_3</th>\n",
       "      <th>Stock_4</th>\n",
       "      <th>Stock_5</th>\n",
       "    </tr>\n",
       "  </thead>\n",
       "  <tbody>\n",
       "    <tr>\n",
       "      <th>0</th>\n",
       "      <td>101.764052</td>\n",
       "      <td>100.160928</td>\n",
       "      <td>99.494642</td>\n",
       "      <td>99.909756</td>\n",
       "      <td>101.761266</td>\n",
       "    </tr>\n",
       "    <tr>\n",
       "      <th>1</th>\n",
       "      <td>102.171269</td>\n",
       "      <td>99.969968</td>\n",
       "      <td>98.682973</td>\n",
       "      <td>100.640755</td>\n",
       "      <td>102.528643</td>\n",
       "    </tr>\n",
       "    <tr>\n",
       "      <th>2</th>\n",
       "      <td>103.171258</td>\n",
       "      <td>99.575237</td>\n",
       "      <td>98.182139</td>\n",
       "      <td>100.574847</td>\n",
       "      <td>101.887811</td>\n",
       "    </tr>\n",
       "    <tr>\n",
       "      <th>3</th>\n",
       "      <td>105.483215</td>\n",
       "      <td>99.308641</td>\n",
       "      <td>97.149381</td>\n",
       "      <td>100.925017</td>\n",
       "      <td>101.490049</td>\n",
       "    </tr>\n",
       "    <tr>\n",
       "      <th>4</th>\n",
       "      <td>107.453175</td>\n",
       "      <td>98.188428</td>\n",
       "      <td>99.575396</td>\n",
       "      <td>101.594411</td>\n",
       "      <td>101.604283</td>\n",
       "    </tr>\n",
       "  </tbody>\n",
       "</table>\n",
       "</div>"
      ],
      "text/plain": [
       "      Stock_1     Stock_2    Stock_3     Stock_4     Stock_5\n",
       "0  101.764052  100.160928  99.494642   99.909756  101.761266\n",
       "1  102.171269   99.969968  98.682973  100.640755  102.528643\n",
       "2  103.171258   99.575237  98.182139  100.574847  101.887811\n",
       "3  105.483215   99.308641  97.149381  100.925017  101.490049\n",
       "4  107.453175   98.188428  99.575396  101.594411  101.604283"
      ]
     },
     "execution_count": 49,
     "metadata": {},
     "output_type": "execute_result"
    }
   ],
   "source": [
    "df.head()\n"
   ]
  },
  {
   "cell_type": "code",
   "execution_count": null,
   "id": "8bf15ee7-bbe4-4b50-b938-dce788426495",
   "metadata": {},
   "outputs": [],
   "source": []
  }
 ],
 "metadata": {
  "kernelspec": {
   "display_name": "Python 3 (ipykernel)",
   "language": "python",
   "name": "python3"
  },
  "language_info": {
   "codemirror_mode": {
    "name": "ipython",
    "version": 3
   },
   "file_extension": ".py",
   "mimetype": "text/x-python",
   "name": "python",
   "nbconvert_exporter": "python",
   "pygments_lexer": "ipython3",
   "version": "3.12.7"
  }
 },
 "nbformat": 4,
 "nbformat_minor": 5
}
